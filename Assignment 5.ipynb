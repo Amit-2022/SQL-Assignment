{
 "cells": [
  {
   "cell_type": "markdown",
   "id": "14974a1e",
   "metadata": {},
   "source": [
    "Q-1. Write an SQL query to print details of workers excluding first names, “Vipul” and “Satish” from Worker table."
   ]
  },
  {
   "cell_type": "code",
   "execution_count": 11,
   "id": "fcfaf358",
   "metadata": {},
   "outputs": [],
   "source": [
    "import mysql.connector\n",
    "from mysql.connector import Error\n",
    "\n",
    "try:\n",
    "    connection = mysql.connector.connect(host='localhost',\n",
    "                                         user='root',\n",
    "                                         password='Am!t@kmr_2$@2')\n",
    "\n",
    "except Error as e:\n",
    "    print(\"Error while connecting to MySQL\", e)"
   ]
  },
  {
   "cell_type": "code",
   "execution_count": 12,
   "id": "ca87526d",
   "metadata": {},
   "outputs": [
    {
     "name": "stdout",
     "output_type": "stream",
     "text": [
      "Connected to MySQL Server version  8.0.28\n",
      "You're connected to database: \n"
     ]
    }
   ],
   "source": [
    "if connection.is_connected():\n",
    "        db_Info = connection.get_server_info()\n",
    "        print(\"Connected to MySQL Server version \", db_Info)\n",
    "        cursor = connection.cursor()\n",
    "        #cursor.execute(\"create database workdatabase;\")\n",
    "        #cursor.execute(\"use workdatabase;\")\n",
    "        print(\"You're connected to database: \")"
   ]
  },
  {
   "cell_type": "code",
   "execution_count": 13,
   "id": "8a602f44",
   "metadata": {},
   "outputs": [],
   "source": [
    "cursor.execute (\"use workdatabase\")"
   ]
  },
  {
   "cell_type": "code",
   "execution_count": 4,
   "id": "dde8b71b",
   "metadata": {},
   "outputs": [],
   "source": [
    "cursor.execute(\"select * from emp where ename not in ('ALLEN','SMITH');\") "
   ]
  },
  {
   "cell_type": "code",
   "execution_count": 5,
   "id": "4ea1072e",
   "metadata": {},
   "outputs": [
    {
     "data": {
      "text/plain": [
       "[(7521,\n",
       "  'WARD',\n",
       "  'SALESMAN',\n",
       "  7698,\n",
       "  datetime.date(1996, 3, 26),\n",
       "  Decimal('1250.00'),\n",
       "  Decimal('500.00'),\n",
       "  30),\n",
       " (7566,\n",
       "  'JONES',\n",
       "  'MANAGER',\n",
       "  7839,\n",
       "  datetime.date(1995, 10, 31),\n",
       "  Decimal('2975.00'),\n",
       "  None,\n",
       "  20),\n",
       " (7654,\n",
       "  'MARTIN',\n",
       "  'SALESMAN',\n",
       "  7698,\n",
       "  datetime.date(1998, 12, 5),\n",
       "  Decimal('1250.00'),\n",
       "  Decimal('1400.00'),\n",
       "  30),\n",
       " (7698,\n",
       "  'BLAKE',\n",
       "  'MANAGER',\n",
       "  7839,\n",
       "  datetime.date(1992, 6, 11),\n",
       "  Decimal('2850.00'),\n",
       "  None,\n",
       "  30),\n",
       " (7782,\n",
       "  'CLARK',\n",
       "  'MANAGER',\n",
       "  7839,\n",
       "  datetime.date(1993, 5, 14),\n",
       "  Decimal('2450.00'),\n",
       "  None,\n",
       "  10),\n",
       " (7788,\n",
       "  'SCOTT',\n",
       "  'ANALYST',\n",
       "  7566,\n",
       "  datetime.date(1996, 3, 5),\n",
       "  Decimal('3000.00'),\n",
       "  None,\n",
       "  20),\n",
       " (7839,\n",
       "  'KING',\n",
       "  'PRESIDENT',\n",
       "  None,\n",
       "  datetime.date(1990, 6, 9),\n",
       "  Decimal('5000.00'),\n",
       "  Decimal('0.00'),\n",
       "  10),\n",
       " (7844,\n",
       "  'TURNER',\n",
       "  'SALESMAN',\n",
       "  7698,\n",
       "  datetime.date(1995, 6, 4),\n",
       "  Decimal('1500.00'),\n",
       "  Decimal('0.00'),\n",
       "  30),\n",
       " (7876,\n",
       "  'ADAMS',\n",
       "  'CLERK',\n",
       "  7788,\n",
       "  datetime.date(1999, 6, 4),\n",
       "  Decimal('1100.00'),\n",
       "  None,\n",
       "  20),\n",
       " (7900,\n",
       "  'JAMES',\n",
       "  'CLERK',\n",
       "  7698,\n",
       "  datetime.date(2000, 6, 23),\n",
       "  Decimal('950.00'),\n",
       "  None,\n",
       "  30),\n",
       " (7902,\n",
       "  'FORD',\n",
       "  'ANALYST',\n",
       "  7566,\n",
       "  datetime.date(1997, 12, 5),\n",
       "  Decimal('3000.00'),\n",
       "  None,\n",
       "  20),\n",
       " (7934,\n",
       "  'MILLER',\n",
       "  'CLERK',\n",
       "  7782,\n",
       "  datetime.date(2000, 1, 21),\n",
       "  Decimal('1300.00'),\n",
       "  None,\n",
       "  10)]"
      ]
     },
     "execution_count": 5,
     "metadata": {},
     "output_type": "execute_result"
    }
   ],
   "source": [
    "cursor.fetchall()"
   ]
  },
  {
   "cell_type": "markdown",
   "id": "dd4bccac",
   "metadata": {},
   "source": [
    "Q-2. Write an SQL query to print details of the Workers whose FIRST_NAME ends with ‘h’ and contains six alphabets."
   ]
  },
  {
   "cell_type": "code",
   "execution_count": 8,
   "id": "b86c9b4b",
   "metadata": {},
   "outputs": [],
   "source": [
    "cursor.execute(\"select * from emp where ename like '%H' and length(ename)=6;\") "
   ]
  },
  {
   "cell_type": "code",
   "execution_count": 9,
   "id": "75323a98",
   "metadata": {},
   "outputs": [
    {
     "data": {
      "text/plain": [
       "[]"
      ]
     },
     "execution_count": 9,
     "metadata": {},
     "output_type": "execute_result"
    }
   ],
   "source": [
    "cursor.fetchall()"
   ]
  },
  {
   "cell_type": "markdown",
   "id": "96ae3438",
   "metadata": {},
   "source": [
    "Q-3. Write a query to validate Email of Employee."
   ]
  },
  {
   "cell_type": "code",
   "execution_count": 14,
   "id": "731a5f93",
   "metadata": {},
   "outputs": [],
   "source": [
    "cursor.execute(\"SELECT * FROM emp WHERE email NOT LIKE '[0-9a-zA-Z]%@%.%';\")  "
   ]
  },
  {
   "cell_type": "code",
   "execution_count": 15,
   "id": "edf1f644",
   "metadata": {},
   "outputs": [
    {
     "data": {
      "text/plain": [
       "[(7369,\n",
       "  'SMITH',\n",
       "  'CLERK',\n",
       "  7902,\n",
       "  datetime.date(1993, 6, 13),\n",
       "  Decimal('800.00'),\n",
       "  Decimal('0.00'),\n",
       "  20,\n",
       "  'SMITH@abc.com'),\n",
       " (7499,\n",
       "  'ALLEN',\n",
       "  'SALESMAN',\n",
       "  7698,\n",
       "  datetime.date(1998, 8, 15),\n",
       "  Decimal('1600.00'),\n",
       "  Decimal('300.00'),\n",
       "  30,\n",
       "  'ALLEN@abc.com'),\n",
       " (7521,\n",
       "  'WARD',\n",
       "  'SALESMAN',\n",
       "  7698,\n",
       "  datetime.date(1996, 3, 26),\n",
       "  Decimal('1250.00'),\n",
       "  Decimal('500.00'),\n",
       "  30,\n",
       "  'WARD@abc.com'),\n",
       " (7566,\n",
       "  'JONES',\n",
       "  'MANAGER',\n",
       "  7839,\n",
       "  datetime.date(1995, 10, 31),\n",
       "  Decimal('2975.00'),\n",
       "  None,\n",
       "  20,\n",
       "  'JONES@abc.com'),\n",
       " (7654,\n",
       "  'MARTIN',\n",
       "  'SALESMAN',\n",
       "  7698,\n",
       "  datetime.date(1998, 12, 5),\n",
       "  Decimal('1250.00'),\n",
       "  Decimal('1400.00'),\n",
       "  30,\n",
       "  'MARTIN@abc.com'),\n",
       " (7698,\n",
       "  'BLAKE',\n",
       "  'MANAGER',\n",
       "  7839,\n",
       "  datetime.date(1992, 6, 11),\n",
       "  Decimal('2850.00'),\n",
       "  None,\n",
       "  30,\n",
       "  'BLAKE@abc.com'),\n",
       " (7782,\n",
       "  'CLARK',\n",
       "  'MANAGER',\n",
       "  7839,\n",
       "  datetime.date(1993, 5, 14),\n",
       "  Decimal('2450.00'),\n",
       "  None,\n",
       "  10,\n",
       "  'CLARK@abc.com'),\n",
       " (7788,\n",
       "  'SCOTT',\n",
       "  'ANALYST',\n",
       "  7566,\n",
       "  datetime.date(1996, 3, 5),\n",
       "  Decimal('3000.00'),\n",
       "  None,\n",
       "  20,\n",
       "  'SCOTT@abc.com'),\n",
       " (7839,\n",
       "  'KING',\n",
       "  'PRESIDENT',\n",
       "  None,\n",
       "  datetime.date(1990, 6, 9),\n",
       "  Decimal('5000.00'),\n",
       "  Decimal('0.00'),\n",
       "  10,\n",
       "  'KING@abc.com'),\n",
       " (7844,\n",
       "  'TURNER',\n",
       "  'SALESMAN',\n",
       "  7698,\n",
       "  datetime.date(1995, 6, 4),\n",
       "  Decimal('1500.00'),\n",
       "  Decimal('0.00'),\n",
       "  30,\n",
       "  'TURNER@abc.com'),\n",
       " (7876,\n",
       "  'ADAMS',\n",
       "  'CLERK',\n",
       "  7788,\n",
       "  datetime.date(1999, 6, 4),\n",
       "  Decimal('1100.00'),\n",
       "  None,\n",
       "  20,\n",
       "  'ADAMS@abc.com'),\n",
       " (7900,\n",
       "  'JAMES',\n",
       "  'CLERK',\n",
       "  7698,\n",
       "  datetime.date(2000, 6, 23),\n",
       "  Decimal('950.00'),\n",
       "  None,\n",
       "  30,\n",
       "  'JAMES@abc.com'),\n",
       " (7902,\n",
       "  'FORD',\n",
       "  'ANALYST',\n",
       "  7566,\n",
       "  datetime.date(1997, 12, 5),\n",
       "  Decimal('3000.00'),\n",
       "  None,\n",
       "  20,\n",
       "  'FORD@abc.com'),\n",
       " (7934,\n",
       "  'MILLER',\n",
       "  'CLERK',\n",
       "  7782,\n",
       "  datetime.date(2000, 1, 21),\n",
       "  Decimal('1300.00'),\n",
       "  None,\n",
       "  10,\n",
       "  'MILLER@abc.com')]"
      ]
     },
     "execution_count": 15,
     "metadata": {},
     "output_type": "execute_result"
    }
   ],
   "source": [
    "cursor.fetchall()"
   ]
  },
  {
   "cell_type": "code",
   "execution_count": 16,
   "id": "dd74810b",
   "metadata": {},
   "outputs": [
    {
     "name": "stdout",
     "output_type": "stream",
     "text": [
      "MySQL connection is closed\n"
     ]
    }
   ],
   "source": [
    "cursor.close()\n",
    "connection.close()\n",
    "print(\"MySQL connection is closed\")"
   ]
  },
  {
   "cell_type": "code",
   "execution_count": null,
   "id": "3e261549",
   "metadata": {},
   "outputs": [],
   "source": []
  }
 ],
 "metadata": {
  "kernelspec": {
   "display_name": "Python 3 (ipykernel)",
   "language": "python",
   "name": "python3"
  },
  "language_info": {
   "codemirror_mode": {
    "name": "ipython",
    "version": 3
   },
   "file_extension": ".py",
   "mimetype": "text/x-python",
   "name": "python",
   "nbconvert_exporter": "python",
   "pygments_lexer": "ipython3",
   "version": "3.9.7"
  }
 },
 "nbformat": 4,
 "nbformat_minor": 5
}
