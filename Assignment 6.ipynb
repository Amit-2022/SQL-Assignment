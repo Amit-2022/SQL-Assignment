{
 "cells": [
  {
   "cell_type": "markdown",
   "id": "e9012645",
   "metadata": {},
   "source": [
    "Q-1. Write an SQL query to print details of the Workers who have joined in Feb’2014."
   ]
  },
  {
   "cell_type": "code",
   "execution_count": 1,
   "id": "3181887c",
   "metadata": {},
   "outputs": [],
   "source": [
    "import mysql.connector\n",
    "from mysql.connector import Error\n",
    "\n",
    "try:\n",
    "    connection = mysql.connector.connect(host='localhost',\n",
    "                                         user='root',\n",
    "                                         password='Am!t@kmr_2$@2')\n",
    "\n",
    "except Error as e:\n",
    "    print(\"Error while connecting to MySQL\", e)"
   ]
  },
  {
   "cell_type": "code",
   "execution_count": 2,
   "id": "68593973",
   "metadata": {},
   "outputs": [
    {
     "name": "stdout",
     "output_type": "stream",
     "text": [
      "Connected to MySQL Server version  8.0.28\n",
      "You're connected to database: \n"
     ]
    }
   ],
   "source": [
    "if connection.is_connected():\n",
    "        db_Info = connection.get_server_info()\n",
    "        print(\"Connected to MySQL Server version \", db_Info)\n",
    "        cursor = connection.cursor()\n",
    "        #cursor.execute(\"create database workdatabase;\")\n",
    "        #cursor.execute(\"use workdatabase;\")\n",
    "        print(\"You're connected to database: \")"
   ]
  },
  {
   "cell_type": "code",
   "execution_count": 3,
   "id": "76d0d10f",
   "metadata": {},
   "outputs": [],
   "source": [
    "cursor.execute (\"use workdatabase\")"
   ]
  },
  {
   "cell_type": "code",
   "execution_count": 8,
   "id": "41599b9d",
   "metadata": {},
   "outputs": [],
   "source": [
    "cursor.execute(\"select * from emp where hiredate > STR_TO_DATE('Feb’2014','%m’%Y');\")"
   ]
  },
  {
   "cell_type": "code",
   "execution_count": 9,
   "id": "cf99f649",
   "metadata": {},
   "outputs": [
    {
     "data": {
      "text/plain": [
       "[]"
      ]
     },
     "execution_count": 9,
     "metadata": {},
     "output_type": "execute_result"
    }
   ],
   "source": [
    "cursor.fetchall()"
   ]
  },
  {
   "cell_type": "markdown",
   "id": "a2b426cf",
   "metadata": {},
   "source": [
    "Q-2. Write an SQL query to fetch duplicate records having matching data in some fields of a table."
   ]
  },
  {
   "cell_type": "code",
   "execution_count": 14,
   "id": "a5cc1a6f",
   "metadata": {},
   "outputs": [],
   "source": [
    "cursor.execute(\"SELECT job, deptno, COUNT(*) FROM emp GROUP BY job, deptno HAVING COUNT(*) > 1;\")"
   ]
  },
  {
   "cell_type": "code",
   "execution_count": 15,
   "id": "9cdcb3ec",
   "metadata": {},
   "outputs": [
    {
     "data": {
      "text/plain": [
       "[('CLERK', 20, 2), ('SALESMAN', 30, 4), ('ANALYST', 20, 2)]"
      ]
     },
     "execution_count": 15,
     "metadata": {},
     "output_type": "execute_result"
    }
   ],
   "source": [
    "cursor.fetchall()"
   ]
  },
  {
   "cell_type": "markdown",
   "id": "88b778a7",
   "metadata": {},
   "source": [
    "Q-3. How to remove duplicate rows from Employees table."
   ]
  },
  {
   "cell_type": "code",
   "execution_count": 16,
   "id": "0240b993",
   "metadata": {},
   "outputs": [],
   "source": [
    "cursor.execute(\"DELETE c1 FROM emp c1 INNER JOIN emp c2 WHERE c1.sal > c2.sal AND c1.ename = c2.ename;\")"
   ]
  },
  {
   "cell_type": "code",
   "execution_count": 17,
   "id": "8c3ebc94",
   "metadata": {},
   "outputs": [],
   "source": [
    "connection.commit()"
   ]
  },
  {
   "cell_type": "code",
   "execution_count": 18,
   "id": "2940ee0d",
   "metadata": {},
   "outputs": [
    {
     "data": {
      "text/plain": [
       "[]"
      ]
     },
     "execution_count": 18,
     "metadata": {},
     "output_type": "execute_result"
    }
   ],
   "source": [
    "cursor.fetchall()"
   ]
  },
  {
   "cell_type": "code",
   "execution_count": null,
   "id": "588ffdaf",
   "metadata": {},
   "outputs": [],
   "source": []
  },
  {
   "cell_type": "code",
   "execution_count": 19,
   "id": "5a3a8223",
   "metadata": {},
   "outputs": [
    {
     "name": "stdout",
     "output_type": "stream",
     "text": [
      "MySQL connection is closed\n"
     ]
    }
   ],
   "source": [
    "cursor.close()\n",
    "connection.close()\n",
    "print(\"MySQL connection is closed\")"
   ]
  },
  {
   "cell_type": "code",
   "execution_count": null,
   "id": "36607ab8",
   "metadata": {},
   "outputs": [],
   "source": []
  }
 ],
 "metadata": {
  "kernelspec": {
   "display_name": "Python 3 (ipykernel)",
   "language": "python",
   "name": "python3"
  },
  "language_info": {
   "codemirror_mode": {
    "name": "ipython",
    "version": 3
   },
   "file_extension": ".py",
   "mimetype": "text/x-python",
   "name": "python",
   "nbconvert_exporter": "python",
   "pygments_lexer": "ipython3",
   "version": "3.9.7"
  }
 },
 "nbformat": 4,
 "nbformat_minor": 5
}
