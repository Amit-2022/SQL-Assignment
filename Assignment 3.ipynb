{
 "cells": [
  {
   "cell_type": "markdown",
   "id": "6ec4a8ed",
   "metadata": {},
   "source": [
    "Q-1. Write an SQL query to print the FIRST_NAME from Worker table after removing white spaces from the right side."
   ]
  },
  {
   "cell_type": "code",
   "execution_count": 1,
   "id": "86c4bae4",
   "metadata": {},
   "outputs": [],
   "source": [
    "import mysql.connector\n",
    "from mysql.connector import Error\n",
    "\n",
    "try:\n",
    "    connection = mysql.connector.connect(host='localhost',\n",
    "                                         user='root',\n",
    "                                         password='Am!t@kmr_2$@2')\n",
    "\n",
    "except Error as e:\n",
    "    print(\"Error while connecting to MySQL\", e)"
   ]
  },
  {
   "cell_type": "code",
   "execution_count": 2,
   "id": "0a1e0204",
   "metadata": {},
   "outputs": [
    {
     "name": "stdout",
     "output_type": "stream",
     "text": [
      "Connected to MySQL Server version  8.0.28\n",
      "You're connected to database: \n"
     ]
    }
   ],
   "source": [
    "if connection.is_connected():\n",
    "        db_Info = connection.get_server_info()\n",
    "        print(\"Connected to MySQL Server version \", db_Info)\n",
    "        cursor = connection.cursor()\n",
    "        #cursor.execute(\"create database workdatabase;\")\n",
    "        #cursor.execute(\"use workdatabase;\")\n",
    "        print(\"You're connected to database: \")"
   ]
  },
  {
   "cell_type": "code",
   "execution_count": 3,
   "id": "939e201e",
   "metadata": {},
   "outputs": [],
   "source": [
    "cursor.execute (\"use workdatabase\")"
   ]
  },
  {
   "cell_type": "code",
   "execution_count": 4,
   "id": "b751552e",
   "metadata": {},
   "outputs": [],
   "source": [
    "cursor.execute(\"select rtrim(ename) as WORKER_NAME from emp;\") "
   ]
  },
  {
   "cell_type": "code",
   "execution_count": 5,
   "id": "e95a26b3",
   "metadata": {},
   "outputs": [
    {
     "data": {
      "text/plain": [
       "[('SMITH',),\n",
       " ('ALLEN',),\n",
       " ('WARD',),\n",
       " ('JONES',),\n",
       " ('MARTIN',),\n",
       " ('BLAKE',),\n",
       " ('CLARK',),\n",
       " ('SCOTT',),\n",
       " ('KING',),\n",
       " ('TURNER',),\n",
       " ('ADAMS',),\n",
       " ('JAMES',),\n",
       " ('FORD',),\n",
       " ('MILLER',)]"
      ]
     },
     "execution_count": 5,
     "metadata": {},
     "output_type": "execute_result"
    }
   ],
   "source": [
    "cursor.fetchall()"
   ]
  },
  {
   "cell_type": "markdown",
   "id": "ca984c28",
   "metadata": {},
   "source": [
    "Q-2. Write an SQL query that fetches the unique values of DEPARTMENT from Worker table and prints its length."
   ]
  },
  {
   "cell_type": "code",
   "execution_count": 7,
   "id": "74db9ca8",
   "metadata": {},
   "outputs": [],
   "source": [
    "cursor.execute(\"select distinct b.dname, length(b.dname)  from emp a , dept b where a.deptno=b.deptno;\")"
   ]
  },
  {
   "cell_type": "code",
   "execution_count": 8,
   "id": "c4390085",
   "metadata": {},
   "outputs": [
    {
     "data": {
      "text/plain": [
       "[('Research', 8), ('Sales', 5), ('Accounting', 10)]"
      ]
     },
     "execution_count": 8,
     "metadata": {},
     "output_type": "execute_result"
    }
   ],
   "source": [
    "cursor.fetchall()"
   ]
  },
  {
   "cell_type": "markdown",
   "id": "4d988404",
   "metadata": {},
   "source": [
    "Q-3. Write an SQL query to fetch nth max salaries from a table."
   ]
  },
  {
   "cell_type": "code",
   "execution_count": 9,
   "id": "99f6d852",
   "metadata": {},
   "outputs": [],
   "source": [
    "cursor.execute(\"SELECT ename,sal FROM emp e1 WHERE 3-1 = (SELECT COUNT(DISTINCT SAL) FROM emp  e2 WHERE e2.sal > e1.sal)\")"
   ]
  },
  {
   "cell_type": "code",
   "execution_count": 10,
   "id": "821f390e",
   "metadata": {},
   "outputs": [
    {
     "data": {
      "text/plain": [
       "[('JONES', Decimal('2975.00'))]"
      ]
     },
     "execution_count": 10,
     "metadata": {},
     "output_type": "execute_result"
    }
   ],
   "source": [
    "cursor.fetchall()"
   ]
  },
  {
   "cell_type": "code",
   "execution_count": null,
   "id": "6b0a9ba9",
   "metadata": {},
   "outputs": [],
   "source": []
  }
 ],
 "metadata": {
  "kernelspec": {
   "display_name": "Python 3 (ipykernel)",
   "language": "python",
   "name": "python3"
  },
  "language_info": {
   "codemirror_mode": {
    "name": "ipython",
    "version": 3
   },
   "file_extension": ".py",
   "mimetype": "text/x-python",
   "name": "python",
   "nbconvert_exporter": "python",
   "pygments_lexer": "ipython3",
   "version": "3.9.7"
  }
 },
 "nbformat": 4,
 "nbformat_minor": 5
}
