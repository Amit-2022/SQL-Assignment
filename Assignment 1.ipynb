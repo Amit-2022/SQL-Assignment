{
 "cells": [
  {
   "cell_type": "markdown",
   "id": "a1b54718",
   "metadata": {},
   "source": [
    "Q-1. Write an SQL query to fetch “FIRST_NAME” from Worker table using the alias name as WORKER_NAME."
   ]
  },
  {
   "cell_type": "code",
   "execution_count": 2,
   "id": "36d83814",
   "metadata": {},
   "outputs": [],
   "source": [
    "import mysql.connector\n",
    "from mysql.connector import Error\n",
    "\n",
    "try:\n",
    "    connection = mysql.connector.connect(host='localhost',\n",
    "                                         user='root',\n",
    "                                         password='Am!t@kmr_2$@2')\n",
    "\n",
    "except Error as e:\n",
    "    print(\"Error while connecting to MySQL\", e)"
   ]
  },
  {
   "cell_type": "code",
   "execution_count": 3,
   "id": "9bbc8a8d",
   "metadata": {},
   "outputs": [
    {
     "name": "stdout",
     "output_type": "stream",
     "text": [
      "Connected to MySQL Server version  8.0.28\n",
      "You're connected to database: \n"
     ]
    }
   ],
   "source": [
    "if connection.is_connected():\n",
    "        db_Info = connection.get_server_info()\n",
    "        print(\"Connected to MySQL Server version \", db_Info)\n",
    "        cursor = connection.cursor()\n",
    "        #cursor.execute(\"create database workdatabase;\")\n",
    "        #cursor.execute(\"use workdatabase;\")\n",
    "        print(\"You're connected to database: \")"
   ]
  },
  {
   "cell_type": "code",
   "execution_count": 3,
   "id": "db9f4c6e",
   "metadata": {},
   "outputs": [],
   "source": [
    "if connection.is_connected():\n",
    "    cursor.execute(\"CREATE TABLE salgrade(grade int(4) not null primary key,losal decimal(10,2),hisal decimal(10,2));\")\n",
    "    cursor.execute(\"CREATE TABLE dept(deptno int(2) not null primary key,dname varchar(50) not null,location varchar(50) not null);\")\n",
    "    cursor.execute(\"CREATE TABLE emp(empno int(4) not null primary key,ename varchar(50) not null,job varchar(50) not null,mgr int(4),hiredate date,sal decimal(10,2),comm decimal(10,2),deptno int(2) not null);\")\n",
    "    connection.commit()"
   ]
  },
  {
   "cell_type": "code",
   "execution_count": 4,
   "id": "b213bac8",
   "metadata": {},
   "outputs": [],
   "source": [
    "cursor.execute(\"insert into dept values (10,'Accounting','New York');\")\n",
    "cursor.execute(\"insert into dept values (20,'Research','Dallas');\")\n",
    "cursor.execute(\"insert into dept values (30,'Sales','Chicago');\")\n",
    "cursor.execute(\"insert into dept values (40,'Operations','Boston');\")\n",
    "connection.commit()"
   ]
  },
  {
   "cell_type": "code",
   "execution_count": 5,
   "id": "d15a48db",
   "metadata": {},
   "outputs": [],
   "source": [
    "cursor.execute(\"insert into emp values (7369,'SMITH','CLERK',7902,'93/6/13',800,0.00,20);\")\n",
    "cursor.execute(\"insert into emp values (7499,'ALLEN','SALESMAN',7698,'98/8/15',1600,300,30);\")\n",
    "cursor.execute(\"insert into emp values (7521,'WARD','SALESMAN',7698,'96/3/26',1250,500,30);\")\n",
    "cursor.execute(\"insert into emp values (7566,'JONES','MANAGER',7839,'95/10/31',2975,null,20);\")\n",
    "cursor.execute(\"insert into emp values (7698,'BLAKE','MANAGER',7839,'92/6/11',2850,null,30);\")\n",
    "cursor.execute(\"insert into emp values (7782,'CLARK','MANAGER',7839,'93/5/14',2450,null,10);\")\n",
    "cursor.execute(\"insert into emp values (7788,'SCOTT','ANALYST',7566,'96/3/5',3000,null,20);\")\n",
    "cursor.execute(\"insert into emp values (7839,'KING','PRESIDENT',null,'90/6/9',5000,0,10);\")\n",
    "cursor.execute(\"insert into emp values (7844,'TURNER','SALESMAN',7698,'95/6/4',1500,0,30);\")\n",
    "cursor.execute(\"insert into emp values (7876,'ADAMS','CLERK',7788,'99/6/4',1100,null,20);\")\n",
    "cursor.execute(\"insert into emp values (7900,'JAMES','CLERK',7698,'00/6/23',950,null,30);\")\n",
    "cursor.execute(\"insert into emp values (7934,'MILLER','CLERK',7782,'00/1/21',1300,null,10);\")\n",
    "cursor.execute(\"insert into emp values (7902,'FORD','ANALYST',7566,'97/12/5',3000,null,20);\")\n",
    "cursor.execute(\"insert into emp values (7654,'MARTIN','SALESMAN',7698,'98/12/5',1250,1400,30);\")\n",
    "connection.commit()"
   ]
  },
  {
   "cell_type": "code",
   "execution_count": 6,
   "id": "8258a7db",
   "metadata": {},
   "outputs": [],
   "source": [
    "cursor.execute(\"insert into salgrade values (1,700,1200);\")\n",
    "cursor.execute(\"insert into salgrade values (2,1201,1400);\")\n",
    "cursor.execute(\"insert into salgrade values (3,1401,2000);\")\n",
    "cursor.execute(\"insert into salgrade values (4,2001,3000);\")\n",
    "cursor.execute(\"insert into salgrade values (5,3001,99999);\")\n",
    "connection.commit()"
   ]
  },
  {
   "cell_type": "code",
   "execution_count": 4,
   "id": "73162a72",
   "metadata": {},
   "outputs": [],
   "source": [
    "cursor.execute (\"use workdatabase\")\n"
   ]
  },
  {
   "cell_type": "code",
   "execution_count": 9,
   "id": "b6269bd1",
   "metadata": {},
   "outputs": [],
   "source": [
    "cursor.execute(\"select ename as WORKER_NAME from emp;\") "
   ]
  },
  {
   "cell_type": "code",
   "execution_count": 10,
   "id": "2c40474f",
   "metadata": {},
   "outputs": [
    {
     "data": {
      "text/plain": [
       "[('SMITH',),\n",
       " ('ALLEN',),\n",
       " ('WARD',),\n",
       " ('JONES',),\n",
       " ('MARTIN',),\n",
       " ('BLAKE',),\n",
       " ('CLARK',),\n",
       " ('SCOTT',),\n",
       " ('KING',),\n",
       " ('TURNER',),\n",
       " ('ADAMS',),\n",
       " ('JAMES',),\n",
       " ('FORD',),\n",
       " ('MILLER',)]"
      ]
     },
     "execution_count": 10,
     "metadata": {},
     "output_type": "execute_result"
    }
   ],
   "source": [
    "\n",
    "cursor.fetchall()"
   ]
  },
  {
   "cell_type": "markdown",
   "id": "cae34ffa",
   "metadata": {},
   "source": [
    "Q-2. Write an SQL query to fetch unique values of DEPARTMENT from Worker table."
   ]
  },
  {
   "cell_type": "code",
   "execution_count": 11,
   "id": "0761b47b",
   "metadata": {},
   "outputs": [
    {
     "data": {
      "text/plain": [
       "[('Research',), ('Sales',), ('Accounting',)]"
      ]
     },
     "execution_count": 11,
     "metadata": {},
     "output_type": "execute_result"
    }
   ],
   "source": [
    "cursor.execute(\"select distinct b.dname  from emp a , dept b where a.deptno=b.deptno\")\n",
    "cursor.fetchall()"
   ]
  },
  {
   "cell_type": "markdown",
   "id": "d6a33167",
   "metadata": {},
   "source": [
    "Q-3. Write an SQL query to show the last 5 record from a table."
   ]
  },
  {
   "cell_type": "code",
   "execution_count": 5,
   "id": "570de99d",
   "metadata": {},
   "outputs": [],
   "source": [
    "cursor.execute(\"select * from emp order by empno desc limit 5;\")"
   ]
  },
  {
   "cell_type": "code",
   "execution_count": 6,
   "id": "821383b6",
   "metadata": {},
   "outputs": [
    {
     "data": {
      "text/plain": [
       "[(7934,\n",
       "  'MILLER',\n",
       "  'CLERK',\n",
       "  7782,\n",
       "  datetime.date(2000, 1, 21),\n",
       "  Decimal('1300.00'),\n",
       "  None,\n",
       "  10),\n",
       " (7902,\n",
       "  'FORD',\n",
       "  'ANALYST',\n",
       "  7566,\n",
       "  datetime.date(1997, 12, 5),\n",
       "  Decimal('3000.00'),\n",
       "  None,\n",
       "  20),\n",
       " (7900,\n",
       "  'JAMES',\n",
       "  'CLERK',\n",
       "  7698,\n",
       "  datetime.date(2000, 6, 23),\n",
       "  Decimal('950.00'),\n",
       "  None,\n",
       "  30),\n",
       " (7876,\n",
       "  'ADAMS',\n",
       "  'CLERK',\n",
       "  7788,\n",
       "  datetime.date(1999, 6, 4),\n",
       "  Decimal('1100.00'),\n",
       "  None,\n",
       "  20),\n",
       " (7844,\n",
       "  'TURNER',\n",
       "  'SALESMAN',\n",
       "  7698,\n",
       "  datetime.date(1995, 6, 4),\n",
       "  Decimal('1500.00'),\n",
       "  Decimal('0.00'),\n",
       "  30)]"
      ]
     },
     "execution_count": 6,
     "metadata": {},
     "output_type": "execute_result"
    }
   ],
   "source": [
    "cursor.fetchall()"
   ]
  },
  {
   "cell_type": "code",
   "execution_count": 7,
   "id": "4412216f",
   "metadata": {},
   "outputs": [
    {
     "name": "stdout",
     "output_type": "stream",
     "text": [
      "MySQL connection is closed\n"
     ]
    }
   ],
   "source": [
    "cursor.close()\n",
    "connection.close()\n",
    "print(\"MySQL connection is closed\")"
   ]
  },
  {
   "cell_type": "code",
   "execution_count": null,
   "id": "6479a3cd",
   "metadata": {},
   "outputs": [],
   "source": []
  },
  {
   "cell_type": "code",
   "execution_count": null,
   "id": "c9cbd25a",
   "metadata": {},
   "outputs": [],
   "source": []
  }
 ],
 "metadata": {
  "kernelspec": {
   "display_name": "Python 3 (ipykernel)",
   "language": "python",
   "name": "python3"
  },
  "language_info": {
   "codemirror_mode": {
    "name": "ipython",
    "version": 3
   },
   "file_extension": ".py",
   "mimetype": "text/x-python",
   "name": "python",
   "nbconvert_exporter": "python",
   "pygments_lexer": "ipython3",
   "version": "3.9.7"
  }
 },
 "nbformat": 4,
 "nbformat_minor": 5
}
