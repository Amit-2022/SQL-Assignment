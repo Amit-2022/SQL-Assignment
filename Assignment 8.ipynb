{
 "cells": [
  {
   "cell_type": "markdown",
   "id": "fafb1e6e",
   "metadata": {},
   "source": [
    "Q-15. Write an SQL query to fetch intersecting records of two tables."
   ]
  },
  {
   "cell_type": "code",
   "execution_count": 1,
   "id": "592ccf75",
   "metadata": {},
   "outputs": [],
   "source": [
    "import mysql.connector\n",
    "from mysql.connector import Error\n",
    "\n",
    "try:\n",
    "    connection = mysql.connector.connect(host='localhost',\n",
    "                                         user='root',\n",
    "                                         password='Am!t@kmr_2$@2')\n",
    "\n",
    "except Error as e:\n",
    "    print(\"Error while connecting to MySQL\", e)"
   ]
  },
  {
   "cell_type": "code",
   "execution_count": 2,
   "id": "2d3f1166",
   "metadata": {},
   "outputs": [
    {
     "name": "stdout",
     "output_type": "stream",
     "text": [
      "Connected to MySQL Server version  8.0.28\n",
      "You're connected to database: \n"
     ]
    }
   ],
   "source": [
    "if connection.is_connected():\n",
    "        db_Info = connection.get_server_info()\n",
    "        print(\"Connected to MySQL Server version \", db_Info)\n",
    "        cursor = connection.cursor()\n",
    "        #cursor.execute(\"create database workdatabase;\")\n",
    "        #cursor.execute(\"use workdatabase;\")\n",
    "        print(\"You're connected to database: \")"
   ]
  },
  {
   "cell_type": "code",
   "execution_count": 3,
   "id": "c8e57176",
   "metadata": {},
   "outputs": [],
   "source": [
    "cursor.execute (\"use workdatabase\")"
   ]
  },
  {
   "cell_type": "code",
   "execution_count": 4,
   "id": "b519de3f",
   "metadata": {},
   "outputs": [],
   "source": [
    "cursor.execute(\"select a.* from  emp a , dept b where a.deptno=b.deptno;\") "
   ]
  },
  {
   "cell_type": "code",
   "execution_count": 5,
   "id": "74c9ee3c",
   "metadata": {},
   "outputs": [
    {
     "data": {
      "text/plain": [
       "[(7369,\n",
       "  'SMITH',\n",
       "  'CLERK',\n",
       "  7902,\n",
       "  datetime.date(1993, 6, 13),\n",
       "  Decimal('800.00'),\n",
       "  Decimal('0.00'),\n",
       "  20,\n",
       "  'SMITH@abc.com'),\n",
       " (7499,\n",
       "  'ALLEN',\n",
       "  'SALESMAN',\n",
       "  7698,\n",
       "  datetime.date(1998, 8, 15),\n",
       "  Decimal('1600.00'),\n",
       "  Decimal('300.00'),\n",
       "  30,\n",
       "  'ALLEN@abc.com'),\n",
       " (7521,\n",
       "  'WARD',\n",
       "  'SALESMAN',\n",
       "  7698,\n",
       "  datetime.date(1996, 3, 26),\n",
       "  Decimal('1250.00'),\n",
       "  Decimal('500.00'),\n",
       "  30,\n",
       "  'WARD@abc.com'),\n",
       " (7566,\n",
       "  'JONES',\n",
       "  'MANAGER',\n",
       "  7839,\n",
       "  datetime.date(1995, 10, 31),\n",
       "  Decimal('2975.00'),\n",
       "  None,\n",
       "  20,\n",
       "  'JONES@abc.com'),\n",
       " (7654,\n",
       "  'MARTIN',\n",
       "  'SALESMAN',\n",
       "  7698,\n",
       "  datetime.date(1998, 12, 5),\n",
       "  Decimal('1250.00'),\n",
       "  Decimal('1400.00'),\n",
       "  30,\n",
       "  'MARTIN@abc.com'),\n",
       " (7698,\n",
       "  'BLAKE',\n",
       "  'MANAGER',\n",
       "  7839,\n",
       "  datetime.date(1992, 6, 11),\n",
       "  Decimal('2850.00'),\n",
       "  None,\n",
       "  30,\n",
       "  'BLAKE@abc.com'),\n",
       " (7782,\n",
       "  'CLARK',\n",
       "  'MANAGER',\n",
       "  7839,\n",
       "  datetime.date(1993, 5, 14),\n",
       "  Decimal('2450.00'),\n",
       "  None,\n",
       "  10,\n",
       "  'CLARK@abc.com'),\n",
       " (7788,\n",
       "  'SCOTT',\n",
       "  'ANALYST',\n",
       "  7566,\n",
       "  datetime.date(1996, 3, 5),\n",
       "  Decimal('3000.00'),\n",
       "  None,\n",
       "  20,\n",
       "  'SCOTT@abc.com'),\n",
       " (7839,\n",
       "  'KING',\n",
       "  'PRESIDENT',\n",
       "  None,\n",
       "  datetime.date(1990, 6, 9),\n",
       "  Decimal('5000.00'),\n",
       "  Decimal('0.00'),\n",
       "  10,\n",
       "  'KING@abc.com'),\n",
       " (7844,\n",
       "  'TURNER',\n",
       "  'SALESMAN',\n",
       "  7698,\n",
       "  datetime.date(1995, 6, 4),\n",
       "  Decimal('1500.00'),\n",
       "  Decimal('0.00'),\n",
       "  30,\n",
       "  'TURNER@abc.com'),\n",
       " (7876,\n",
       "  'ADAMS',\n",
       "  'CLERK',\n",
       "  7788,\n",
       "  datetime.date(1999, 6, 4),\n",
       "  Decimal('1100.00'),\n",
       "  None,\n",
       "  20,\n",
       "  'ADAMS@abc.com'),\n",
       " (7900,\n",
       "  'JAMES',\n",
       "  'CLERK',\n",
       "  7698,\n",
       "  datetime.date(2000, 6, 23),\n",
       "  Decimal('950.00'),\n",
       "  None,\n",
       "  30,\n",
       "  'JAMES@abc.com'),\n",
       " (7902,\n",
       "  'FORD',\n",
       "  'ANALYST',\n",
       "  7566,\n",
       "  datetime.date(1997, 12, 5),\n",
       "  Decimal('3000.00'),\n",
       "  None,\n",
       "  20,\n",
       "  'FORD@abc.com'),\n",
       " (7934,\n",
       "  'MILLER',\n",
       "  'CLERK',\n",
       "  7782,\n",
       "  datetime.date(2000, 1, 21),\n",
       "  Decimal('1300.00'),\n",
       "  None,\n",
       "  10,\n",
       "  'MILLER@abc.com')]"
      ]
     },
     "execution_count": 5,
     "metadata": {},
     "output_type": "execute_result"
    }
   ],
   "source": [
    "cursor.fetchall()"
   ]
  },
  {
   "cell_type": "markdown",
   "id": "dc52851b",
   "metadata": {},
   "source": [
    "Q-16. Write an SQL query to show records from one table that another table does not have."
   ]
  },
  {
   "cell_type": "code",
   "execution_count": 8,
   "id": "21ff5582",
   "metadata": {},
   "outputs": [],
   "source": [
    "cursor.execute(\"select A.* from  emp a  where a.deptno NOT IN (SELECT DEPTNO FROM dept);\") "
   ]
  },
  {
   "cell_type": "code",
   "execution_count": 9,
   "id": "e12b3a08",
   "metadata": {},
   "outputs": [
    {
     "data": {
      "text/plain": [
       "[]"
      ]
     },
     "execution_count": 9,
     "metadata": {},
     "output_type": "execute_result"
    }
   ],
   "source": [
    "cursor.fetchall()"
   ]
  },
  {
   "cell_type": "code",
   "execution_count": null,
   "id": "0da3fc0c",
   "metadata": {},
   "outputs": [],
   "source": []
  },
  {
   "cell_type": "code",
   "execution_count": null,
   "id": "ed6d6144",
   "metadata": {},
   "outputs": [],
   "source": []
  },
  {
   "cell_type": "code",
   "execution_count": 10,
   "id": "a286c4a8",
   "metadata": {},
   "outputs": [
    {
     "name": "stdout",
     "output_type": "stream",
     "text": [
      "MySQL connection is closed\n"
     ]
    }
   ],
   "source": [
    "cursor.close()\n",
    "connection.close()\n",
    "print(\"MySQL connection is closed\")"
   ]
  },
  {
   "cell_type": "code",
   "execution_count": null,
   "id": "07da8e87",
   "metadata": {},
   "outputs": [],
   "source": []
  }
 ],
 "metadata": {
  "kernelspec": {
   "display_name": "Python 3 (ipykernel)",
   "language": "python",
   "name": "python3"
  },
  "language_info": {
   "codemirror_mode": {
    "name": "ipython",
    "version": 3
   },
   "file_extension": ".py",
   "mimetype": "text/x-python",
   "name": "python",
   "nbconvert_exporter": "python",
   "pygments_lexer": "ipython3",
   "version": "3.9.7"
  }
 },
 "nbformat": 4,
 "nbformat_minor": 5
}
