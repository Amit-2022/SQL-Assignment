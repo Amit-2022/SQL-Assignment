{
 "cells": [
  {
   "cell_type": "markdown",
   "id": "20decea9",
   "metadata": {},
   "source": [
    "Q-13. Write an SQL query to show only odd rows from a table."
   ]
  },
  {
   "cell_type": "code",
   "execution_count": 1,
   "id": "c9120bca",
   "metadata": {},
   "outputs": [],
   "source": [
    "import mysql.connector\n",
    "from mysql.connector import Error\n",
    "\n",
    "try:\n",
    "    connection = mysql.connector.connect(host='localhost',\n",
    "                                         user='root',\n",
    "                                         password='Am!t@kmr_2$@2')\n",
    "\n",
    "except Error as e:\n",
    "    print(\"Error while connecting to MySQL\", e)"
   ]
  },
  {
   "cell_type": "code",
   "execution_count": 2,
   "id": "3ed705fd",
   "metadata": {},
   "outputs": [
    {
     "name": "stdout",
     "output_type": "stream",
     "text": [
      "Connected to MySQL Server version  8.0.28\n",
      "You're connected to database: \n"
     ]
    }
   ],
   "source": [
    "if connection.is_connected():\n",
    "        db_Info = connection.get_server_info()\n",
    "        print(\"Connected to MySQL Server version \", db_Info)\n",
    "        cursor = connection.cursor()\n",
    "        #cursor.execute(\"create database workdatabase;\")\n",
    "        #cursor.execute(\"use workdatabase;\")\n",
    "        print(\"You're connected to database: \")"
   ]
  },
  {
   "cell_type": "code",
   "execution_count": 3,
   "id": "54796cd7",
   "metadata": {},
   "outputs": [],
   "source": [
    "cursor.execute (\"use workdatabase\")"
   ]
  },
  {
   "cell_type": "code",
   "execution_count": 4,
   "id": "087e0236",
   "metadata": {},
   "outputs": [],
   "source": [
    "cursor.execute(\"SELECT * FROM emp WHERE MOD (empno, 2) <> 0;\")"
   ]
  },
  {
   "cell_type": "code",
   "execution_count": 5,
   "id": "bfc316da",
   "metadata": {},
   "outputs": [
    {
     "data": {
      "text/plain": [
       "[(7369,\n",
       "  'SMITH',\n",
       "  'CLERK',\n",
       "  7902,\n",
       "  datetime.date(1993, 6, 13),\n",
       "  Decimal('800.00'),\n",
       "  Decimal('0.00'),\n",
       "  20,\n",
       "  'SMITH@abc.com'),\n",
       " (7499,\n",
       "  'ALLEN',\n",
       "  'SALESMAN',\n",
       "  7698,\n",
       "  datetime.date(1998, 8, 15),\n",
       "  Decimal('1600.00'),\n",
       "  Decimal('300.00'),\n",
       "  30,\n",
       "  'ALLEN@abc.com'),\n",
       " (7521,\n",
       "  'WARD',\n",
       "  'SALESMAN',\n",
       "  7698,\n",
       "  datetime.date(1996, 3, 26),\n",
       "  Decimal('1250.00'),\n",
       "  Decimal('500.00'),\n",
       "  30,\n",
       "  'WARD@abc.com'),\n",
       " (7839,\n",
       "  'KING',\n",
       "  'PRESIDENT',\n",
       "  None,\n",
       "  datetime.date(1990, 6, 9),\n",
       "  Decimal('5000.00'),\n",
       "  Decimal('0.00'),\n",
       "  10,\n",
       "  'KING@abc.com')]"
      ]
     },
     "execution_count": 5,
     "metadata": {},
     "output_type": "execute_result"
    }
   ],
   "source": [
    "cursor.fetchall()"
   ]
  },
  {
   "cell_type": "markdown",
   "id": "08f7eb89",
   "metadata": {},
   "source": [
    "Q-14. Write an SQL query to clone a new table from another table."
   ]
  },
  {
   "cell_type": "code",
   "execution_count": 7,
   "id": "3e17e149",
   "metadata": {},
   "outputs": [
    {
     "ename": "ProgrammingError",
     "evalue": "1050 (42S01): Table 'empclone' already exists",
     "output_type": "error",
     "traceback": [
      "\u001b[1;31m---------------------------------------------------------------------------\u001b[0m",
      "\u001b[1;31mMySQLInterfaceError\u001b[0m                       Traceback (most recent call last)",
      "\u001b[1;32m~\\anaconda3\\lib\\site-packages\\mysql\\connector\\connection_cext.py\u001b[0m in \u001b[0;36mcmd_query\u001b[1;34m(self, query, raw, buffered, raw_as_string)\u001b[0m\n\u001b[0;32m    522\u001b[0m                 \u001b[0mquery\u001b[0m \u001b[1;33m=\u001b[0m \u001b[0mquery\u001b[0m\u001b[1;33m.\u001b[0m\u001b[0mencode\u001b[0m\u001b[1;33m(\u001b[0m\u001b[1;34m'utf-8'\u001b[0m\u001b[1;33m)\u001b[0m\u001b[1;33m\u001b[0m\u001b[1;33m\u001b[0m\u001b[0m\n\u001b[1;32m--> 523\u001b[1;33m             self._cmysql.query(query,\n\u001b[0m\u001b[0;32m    524\u001b[0m                                \u001b[0mraw\u001b[0m\u001b[1;33m=\u001b[0m\u001b[0mraw\u001b[0m\u001b[1;33m,\u001b[0m \u001b[0mbuffered\u001b[0m\u001b[1;33m=\u001b[0m\u001b[0mbuffered\u001b[0m\u001b[1;33m,\u001b[0m\u001b[1;33m\u001b[0m\u001b[1;33m\u001b[0m\u001b[0m\n",
      "\u001b[1;31mMySQLInterfaceError\u001b[0m: Table 'empclone' already exists",
      "\nDuring handling of the above exception, another exception occurred:\n",
      "\u001b[1;31mProgrammingError\u001b[0m                          Traceback (most recent call last)",
      "\u001b[1;32m~\\AppData\\Local\\Temp/ipykernel_7500/3701039483.py\u001b[0m in \u001b[0;36m<module>\u001b[1;34m\u001b[0m\n\u001b[1;32m----> 1\u001b[1;33m \u001b[0mcursor\u001b[0m\u001b[1;33m.\u001b[0m\u001b[0mexecute\u001b[0m\u001b[1;33m(\u001b[0m\u001b[1;34m\"CREATE TABLE empclone as (select * from emp);\"\u001b[0m\u001b[1;33m)\u001b[0m\u001b[1;33m\u001b[0m\u001b[1;33m\u001b[0m\u001b[0m\n\u001b[0m",
      "\u001b[1;32m~\\anaconda3\\lib\\site-packages\\mysql\\connector\\cursor_cext.py\u001b[0m in \u001b[0;36mexecute\u001b[1;34m(self, operation, params, multi)\u001b[0m\n\u001b[0;32m    267\u001b[0m \u001b[1;33m\u001b[0m\u001b[0m\n\u001b[0;32m    268\u001b[0m         \u001b[1;32mtry\u001b[0m\u001b[1;33m:\u001b[0m\u001b[1;33m\u001b[0m\u001b[1;33m\u001b[0m\u001b[0m\n\u001b[1;32m--> 269\u001b[1;33m             result = self._cnx.cmd_query(stmt, raw=self._raw,\n\u001b[0m\u001b[0;32m    270\u001b[0m                                          \u001b[0mbuffered\u001b[0m\u001b[1;33m=\u001b[0m\u001b[0mself\u001b[0m\u001b[1;33m.\u001b[0m\u001b[0m_buffered\u001b[0m\u001b[1;33m,\u001b[0m\u001b[1;33m\u001b[0m\u001b[1;33m\u001b[0m\u001b[0m\n\u001b[0;32m    271\u001b[0m                                          raw_as_string=self._raw_as_string)\n",
      "\u001b[1;32m~\\anaconda3\\lib\\site-packages\\mysql\\connector\\connection_cext.py\u001b[0m in \u001b[0;36mcmd_query\u001b[1;34m(self, query, raw, buffered, raw_as_string)\u001b[0m\n\u001b[0;32m    526\u001b[0m                                query_attrs=self._query_attrs)\n\u001b[0;32m    527\u001b[0m         \u001b[1;32mexcept\u001b[0m \u001b[0mMySQLInterfaceError\u001b[0m \u001b[1;32mas\u001b[0m \u001b[0mexc\u001b[0m\u001b[1;33m:\u001b[0m\u001b[1;33m\u001b[0m\u001b[1;33m\u001b[0m\u001b[0m\n\u001b[1;32m--> 528\u001b[1;33m             raise errors.get_mysql_exception(exc.errno, msg=exc.msg,\n\u001b[0m\u001b[0;32m    529\u001b[0m                                              sqlstate=exc.sqlstate)\n\u001b[0;32m    530\u001b[0m         \u001b[1;32mexcept\u001b[0m \u001b[0mAttributeError\u001b[0m\u001b[1;33m:\u001b[0m\u001b[1;33m\u001b[0m\u001b[1;33m\u001b[0m\u001b[0m\n",
      "\u001b[1;31mProgrammingError\u001b[0m: 1050 (42S01): Table 'empclone' already exists"
     ]
    }
   ],
   "source": [
    " cursor.execute(\"CREATE TABLE empclone as (select * from emp);\")"
   ]
  },
  {
   "cell_type": "code",
   "execution_count": 8,
   "id": "90d7489b",
   "metadata": {},
   "outputs": [],
   "source": [
    "connection.commit()"
   ]
  },
  {
   "cell_type": "code",
   "execution_count": 9,
   "id": "1fe41069",
   "metadata": {},
   "outputs": [],
   "source": [
    " cursor.execute(\"select * from empclone\")"
   ]
  },
  {
   "cell_type": "code",
   "execution_count": 10,
   "id": "76e20bdc",
   "metadata": {},
   "outputs": [
    {
     "data": {
      "text/plain": [
       "[(7369,\n",
       "  'SMITH',\n",
       "  'CLERK',\n",
       "  7902,\n",
       "  datetime.date(1993, 6, 13),\n",
       "  Decimal('800.00'),\n",
       "  Decimal('0.00'),\n",
       "  20,\n",
       "  'SMITH@abc.com'),\n",
       " (7499,\n",
       "  'ALLEN',\n",
       "  'SALESMAN',\n",
       "  7698,\n",
       "  datetime.date(1998, 8, 15),\n",
       "  Decimal('1600.00'),\n",
       "  Decimal('300.00'),\n",
       "  30,\n",
       "  'ALLEN@abc.com'),\n",
       " (7521,\n",
       "  'WARD',\n",
       "  'SALESMAN',\n",
       "  7698,\n",
       "  datetime.date(1996, 3, 26),\n",
       "  Decimal('1250.00'),\n",
       "  Decimal('500.00'),\n",
       "  30,\n",
       "  'WARD@abc.com'),\n",
       " (7566,\n",
       "  'JONES',\n",
       "  'MANAGER',\n",
       "  7839,\n",
       "  datetime.date(1995, 10, 31),\n",
       "  Decimal('2975.00'),\n",
       "  None,\n",
       "  20,\n",
       "  'JONES@abc.com'),\n",
       " (7654,\n",
       "  'MARTIN',\n",
       "  'SALESMAN',\n",
       "  7698,\n",
       "  datetime.date(1998, 12, 5),\n",
       "  Decimal('1250.00'),\n",
       "  Decimal('1400.00'),\n",
       "  30,\n",
       "  'MARTIN@abc.com'),\n",
       " (7698,\n",
       "  'BLAKE',\n",
       "  'MANAGER',\n",
       "  7839,\n",
       "  datetime.date(1992, 6, 11),\n",
       "  Decimal('2850.00'),\n",
       "  None,\n",
       "  30,\n",
       "  'BLAKE@abc.com'),\n",
       " (7782,\n",
       "  'CLARK',\n",
       "  'MANAGER',\n",
       "  7839,\n",
       "  datetime.date(1993, 5, 14),\n",
       "  Decimal('2450.00'),\n",
       "  None,\n",
       "  10,\n",
       "  'CLARK@abc.com'),\n",
       " (7788,\n",
       "  'SCOTT',\n",
       "  'ANALYST',\n",
       "  7566,\n",
       "  datetime.date(1996, 3, 5),\n",
       "  Decimal('3000.00'),\n",
       "  None,\n",
       "  20,\n",
       "  'SCOTT@abc.com'),\n",
       " (7839,\n",
       "  'KING',\n",
       "  'PRESIDENT',\n",
       "  None,\n",
       "  datetime.date(1990, 6, 9),\n",
       "  Decimal('5000.00'),\n",
       "  Decimal('0.00'),\n",
       "  10,\n",
       "  'KING@abc.com'),\n",
       " (7844,\n",
       "  'TURNER',\n",
       "  'SALESMAN',\n",
       "  7698,\n",
       "  datetime.date(1995, 6, 4),\n",
       "  Decimal('1500.00'),\n",
       "  Decimal('0.00'),\n",
       "  30,\n",
       "  'TURNER@abc.com'),\n",
       " (7876,\n",
       "  'ADAMS',\n",
       "  'CLERK',\n",
       "  7788,\n",
       "  datetime.date(1999, 6, 4),\n",
       "  Decimal('1100.00'),\n",
       "  None,\n",
       "  20,\n",
       "  'ADAMS@abc.com'),\n",
       " (7900,\n",
       "  'JAMES',\n",
       "  'CLERK',\n",
       "  7698,\n",
       "  datetime.date(2000, 6, 23),\n",
       "  Decimal('950.00'),\n",
       "  None,\n",
       "  30,\n",
       "  'JAMES@abc.com'),\n",
       " (7902,\n",
       "  'FORD',\n",
       "  'ANALYST',\n",
       "  7566,\n",
       "  datetime.date(1997, 12, 5),\n",
       "  Decimal('3000.00'),\n",
       "  None,\n",
       "  20,\n",
       "  'FORD@abc.com'),\n",
       " (7934,\n",
       "  'MILLER',\n",
       "  'CLERK',\n",
       "  7782,\n",
       "  datetime.date(2000, 1, 21),\n",
       "  Decimal('1300.00'),\n",
       "  None,\n",
       "  10,\n",
       "  'MILLER@abc.com')]"
      ]
     },
     "execution_count": 10,
     "metadata": {},
     "output_type": "execute_result"
    }
   ],
   "source": [
    "cursor.fetchall()"
   ]
  },
  {
   "cell_type": "code",
   "execution_count": null,
   "id": "bf1dfdc9",
   "metadata": {},
   "outputs": [],
   "source": []
  },
  {
   "cell_type": "code",
   "execution_count": null,
   "id": "5e86a47c",
   "metadata": {},
   "outputs": [],
   "source": []
  },
  {
   "cell_type": "code",
   "execution_count": 11,
   "id": "860f45b4",
   "metadata": {},
   "outputs": [
    {
     "name": "stdout",
     "output_type": "stream",
     "text": [
      "MySQL connection is closed\n"
     ]
    }
   ],
   "source": [
    "cursor.close()\n",
    "connection.close()\n",
    "print(\"MySQL connection is closed\")"
   ]
  },
  {
   "cell_type": "code",
   "execution_count": null,
   "id": "d48e7f5a",
   "metadata": {},
   "outputs": [],
   "source": []
  }
 ],
 "metadata": {
  "kernelspec": {
   "display_name": "Python 3 (ipykernel)",
   "language": "python",
   "name": "python3"
  },
  "language_info": {
   "codemirror_mode": {
    "name": "ipython",
    "version": 3
   },
   "file_extension": ".py",
   "mimetype": "text/x-python",
   "name": "python",
   "nbconvert_exporter": "python",
   "pygments_lexer": "ipython3",
   "version": "3.9.7"
  }
 },
 "nbformat": 4,
 "nbformat_minor": 5
}
