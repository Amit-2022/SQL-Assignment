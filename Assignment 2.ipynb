{
 "cells": [
  {
   "cell_type": "markdown",
   "id": "47be915f",
   "metadata": {},
   "source": [
    "Q-1. Write an SQL query to print the first three characters of  FIRST_NAME from Worker table."
   ]
  },
  {
   "cell_type": "code",
   "execution_count": 1,
   "id": "061ed5c0",
   "metadata": {},
   "outputs": [],
   "source": [
    "import mysql.connector\n",
    "from mysql.connector import Error\n",
    "\n",
    "try:\n",
    "    connection = mysql.connector.connect(host='localhost',\n",
    "                                         user='root',\n",
    "                                         password='Am!t@kmr_2$@2')\n",
    "\n",
    "except Error as e:\n",
    "    print(\"Error while connecting to MySQL\", e)"
   ]
  },
  {
   "cell_type": "code",
   "execution_count": 2,
   "id": "194ee698",
   "metadata": {},
   "outputs": [
    {
     "name": "stdout",
     "output_type": "stream",
     "text": [
      "Connected to MySQL Server version  8.0.28\n",
      "You're connected to database: \n"
     ]
    }
   ],
   "source": [
    "if connection.is_connected():\n",
    "        db_Info = connection.get_server_info()\n",
    "        print(\"Connected to MySQL Server version \", db_Info)\n",
    "        cursor = connection.cursor()\n",
    "        #cursor.execute(\"create database workdatabase;\")\n",
    "        #cursor.execute(\"use workdatabase;\")\n",
    "        print(\"You're connected to database: \")"
   ]
  },
  {
   "cell_type": "code",
   "execution_count": 3,
   "id": "ad65ff97",
   "metadata": {},
   "outputs": [],
   "source": [
    "cursor.execute (\"use workdatabase\")"
   ]
  },
  {
   "cell_type": "code",
   "execution_count": 4,
   "id": "cb266e90",
   "metadata": {},
   "outputs": [],
   "source": [
    "cursor.execute(\"select substr(ename,1,3) as WORKER_NAME from emp;\") "
   ]
  },
  {
   "cell_type": "code",
   "execution_count": 5,
   "id": "537dbb6b",
   "metadata": {},
   "outputs": [
    {
     "data": {
      "text/plain": [
       "[('SMI',),\n",
       " ('ALL',),\n",
       " ('WAR',),\n",
       " ('JON',),\n",
       " ('MAR',),\n",
       " ('BLA',),\n",
       " ('CLA',),\n",
       " ('SCO',),\n",
       " ('KIN',),\n",
       " ('TUR',),\n",
       " ('ADA',),\n",
       " ('JAM',),\n",
       " ('FOR',),\n",
       " ('MIL',)]"
      ]
     },
     "execution_count": 5,
     "metadata": {},
     "output_type": "execute_result"
    }
   ],
   "source": [
    "cursor.fetchall()"
   ]
  },
  {
   "cell_type": "markdown",
   "id": "2c3c05b7",
   "metadata": {},
   "source": [
    " Q-2. Write an SQL query to find the position of the alphabet (‘a’) in the first name column ‘Amitabh’ from Worker table."
   ]
  },
  {
   "cell_type": "code",
   "execution_count": 17,
   "id": "77507a31",
   "metadata": {},
   "outputs": [],
   "source": [
    "cursor.execute(\"select instr(ename,'A') from emp where ename='CLARK';\")"
   ]
  },
  {
   "cell_type": "code",
   "execution_count": 18,
   "id": "668b5ff7",
   "metadata": {},
   "outputs": [
    {
     "data": {
      "text/plain": [
       "[(3,)]"
      ]
     },
     "execution_count": 18,
     "metadata": {},
     "output_type": "execute_result"
    }
   ],
   "source": [
    "cursor.fetchall()"
   ]
  },
  {
   "cell_type": "markdown",
   "id": "13cd765c",
   "metadata": {},
   "source": [
    "Q-3. Write an SQL query to print the name of employees having the highest salary in each department."
   ]
  },
  {
   "cell_type": "code",
   "execution_count": 19,
   "id": "9d8f134e",
   "metadata": {},
   "outputs": [],
   "source": [
    "cursor.execute(\"select max(sal),b.dname from  emp a , dept b where a.deptno=b.deptno group by a.deptno;\")"
   ]
  },
  {
   "cell_type": "code",
   "execution_count": 20,
   "id": "046b73d1",
   "metadata": {},
   "outputs": [
    {
     "data": {
      "text/plain": [
       "[(Decimal('3000.00'), 'Research'),\n",
       " (Decimal('2850.00'), 'Sales'),\n",
       " (Decimal('5000.00'), 'Accounting')]"
      ]
     },
     "execution_count": 20,
     "metadata": {},
     "output_type": "execute_result"
    }
   ],
   "source": [
    "cursor.fetchall()"
   ]
  },
  {
   "cell_type": "code",
   "execution_count": null,
   "id": "9af17afc",
   "metadata": {},
   "outputs": [],
   "source": []
  },
  {
   "cell_type": "code",
   "execution_count": null,
   "id": "042d22ac",
   "metadata": {},
   "outputs": [],
   "source": []
  },
  {
   "cell_type": "code",
   "execution_count": 21,
   "id": "02a32a19",
   "metadata": {},
   "outputs": [
    {
     "name": "stdout",
     "output_type": "stream",
     "text": [
      "MySQL connection is closed\n"
     ]
    }
   ],
   "source": [
    "cursor.close()\n",
    "connection.close()\n",
    "print(\"MySQL connection is closed\")"
   ]
  },
  {
   "cell_type": "code",
   "execution_count": null,
   "id": "55a6d733",
   "metadata": {},
   "outputs": [],
   "source": []
  }
 ],
 "metadata": {
  "kernelspec": {
   "display_name": "Python 3 (ipykernel)",
   "language": "python",
   "name": "python3"
  },
  "language_info": {
   "codemirror_mode": {
    "name": "ipython",
    "version": 3
   },
   "file_extension": ".py",
   "mimetype": "text/x-python",
   "name": "python",
   "nbconvert_exporter": "python",
   "pygments_lexer": "ipython3",
   "version": "3.9.7"
  }
 },
 "nbformat": 4,
 "nbformat_minor": 5
}
