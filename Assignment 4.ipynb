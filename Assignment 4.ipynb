{
 "cells": [
  {
   "cell_type": "markdown",
   "id": "b354510f",
   "metadata": {},
   "source": [
    "Q-1. Write an SQL query to print the FIRST_NAME from Worker table after replacing ‘a’ with ‘A’."
   ]
  },
  {
   "cell_type": "code",
   "execution_count": 1,
   "id": "79467ab1",
   "metadata": {},
   "outputs": [],
   "source": [
    "import mysql.connector\n",
    "from mysql.connector import Error\n",
    "\n",
    "try:\n",
    "    connection = mysql.connector.connect(host='localhost',\n",
    "                                         user='root',\n",
    "                                         password='Am!t@kmr_2$@2')\n",
    "\n",
    "except Error as e:\n",
    "    print(\"Error while connecting to MySQL\", e)"
   ]
  },
  {
   "cell_type": "code",
   "execution_count": 2,
   "id": "9135db14",
   "metadata": {},
   "outputs": [
    {
     "name": "stdout",
     "output_type": "stream",
     "text": [
      "Connected to MySQL Server version  8.0.28\n",
      "You're connected to database: \n"
     ]
    }
   ],
   "source": [
    "if connection.is_connected():\n",
    "        db_Info = connection.get_server_info()\n",
    "        print(\"Connected to MySQL Server version \", db_Info)\n",
    "        cursor = connection.cursor()\n",
    "        #cursor.execute(\"create database workdatabase;\")\n",
    "        #cursor.execute(\"use workdatabase;\")\n",
    "        print(\"You're connected to database: \")"
   ]
  },
  {
   "cell_type": "code",
   "execution_count": 3,
   "id": "8dcf3025",
   "metadata": {},
   "outputs": [],
   "source": [
    "cursor.execute (\"use workdatabase\")"
   ]
  },
  {
   "cell_type": "code",
   "execution_count": 4,
   "id": "1a782059",
   "metadata": {},
   "outputs": [],
   "source": [
    "cursor.execute(\"select REPLACE(ename,'a','A') as WORKER_NAME from emp;\") "
   ]
  },
  {
   "cell_type": "code",
   "execution_count": 5,
   "id": "b548b10c",
   "metadata": {},
   "outputs": [
    {
     "data": {
      "text/plain": [
       "[('SMITH',),\n",
       " ('ALLEN',),\n",
       " ('WARD',),\n",
       " ('JONES',),\n",
       " ('MARTIN',),\n",
       " ('BLAKE',),\n",
       " ('CLARK',),\n",
       " ('SCOTT',),\n",
       " ('KING',),\n",
       " ('TURNER',),\n",
       " ('ADAMS',),\n",
       " ('JAMES',),\n",
       " ('FORD',),\n",
       " ('MILLER',)]"
      ]
     },
     "execution_count": 5,
     "metadata": {},
     "output_type": "execute_result"
    }
   ],
   "source": [
    "cursor.fetchall()"
   ]
  },
  {
   "cell_type": "markdown",
   "id": "4da9eb5a",
   "metadata": {},
   "source": [
    "Q-2. Write an SQL query to print all Worker details from the Worker table order by FIRST_NAME Ascending and DEPARTMENT Descending."
   ]
  },
  {
   "cell_type": "code",
   "execution_count": 6,
   "id": "b039d97b",
   "metadata": {},
   "outputs": [],
   "source": [
    "cursor.execute(\"select * from emp order by ename asc, deptno desc;\") "
   ]
  },
  {
   "cell_type": "code",
   "execution_count": 7,
   "id": "ed01bf15",
   "metadata": {},
   "outputs": [
    {
     "data": {
      "text/plain": [
       "[(7876,\n",
       "  'ADAMS',\n",
       "  'CLERK',\n",
       "  7788,\n",
       "  datetime.date(1999, 6, 4),\n",
       "  Decimal('1100.00'),\n",
       "  None,\n",
       "  20),\n",
       " (7499,\n",
       "  'ALLEN',\n",
       "  'SALESMAN',\n",
       "  7698,\n",
       "  datetime.date(1998, 8, 15),\n",
       "  Decimal('1600.00'),\n",
       "  Decimal('300.00'),\n",
       "  30),\n",
       " (7698,\n",
       "  'BLAKE',\n",
       "  'MANAGER',\n",
       "  7839,\n",
       "  datetime.date(1992, 6, 11),\n",
       "  Decimal('2850.00'),\n",
       "  None,\n",
       "  30),\n",
       " (7782,\n",
       "  'CLARK',\n",
       "  'MANAGER',\n",
       "  7839,\n",
       "  datetime.date(1993, 5, 14),\n",
       "  Decimal('2450.00'),\n",
       "  None,\n",
       "  10),\n",
       " (7902,\n",
       "  'FORD',\n",
       "  'ANALYST',\n",
       "  7566,\n",
       "  datetime.date(1997, 12, 5),\n",
       "  Decimal('3000.00'),\n",
       "  None,\n",
       "  20),\n",
       " (7900,\n",
       "  'JAMES',\n",
       "  'CLERK',\n",
       "  7698,\n",
       "  datetime.date(2000, 6, 23),\n",
       "  Decimal('950.00'),\n",
       "  None,\n",
       "  30),\n",
       " (7566,\n",
       "  'JONES',\n",
       "  'MANAGER',\n",
       "  7839,\n",
       "  datetime.date(1995, 10, 31),\n",
       "  Decimal('2975.00'),\n",
       "  None,\n",
       "  20),\n",
       " (7839,\n",
       "  'KING',\n",
       "  'PRESIDENT',\n",
       "  None,\n",
       "  datetime.date(1990, 6, 9),\n",
       "  Decimal('5000.00'),\n",
       "  Decimal('0.00'),\n",
       "  10),\n",
       " (7654,\n",
       "  'MARTIN',\n",
       "  'SALESMAN',\n",
       "  7698,\n",
       "  datetime.date(1998, 12, 5),\n",
       "  Decimal('1250.00'),\n",
       "  Decimal('1400.00'),\n",
       "  30),\n",
       " (7934,\n",
       "  'MILLER',\n",
       "  'CLERK',\n",
       "  7782,\n",
       "  datetime.date(2000, 1, 21),\n",
       "  Decimal('1300.00'),\n",
       "  None,\n",
       "  10),\n",
       " (7788,\n",
       "  'SCOTT',\n",
       "  'ANALYST',\n",
       "  7566,\n",
       "  datetime.date(1996, 3, 5),\n",
       "  Decimal('3000.00'),\n",
       "  None,\n",
       "  20),\n",
       " (7369,\n",
       "  'SMITH',\n",
       "  'CLERK',\n",
       "  7902,\n",
       "  datetime.date(1993, 6, 13),\n",
       "  Decimal('800.00'),\n",
       "  Decimal('0.00'),\n",
       "  20),\n",
       " (7844,\n",
       "  'TURNER',\n",
       "  'SALESMAN',\n",
       "  7698,\n",
       "  datetime.date(1995, 6, 4),\n",
       "  Decimal('1500.00'),\n",
       "  Decimal('0.00'),\n",
       "  30),\n",
       " (7521,\n",
       "  'WARD',\n",
       "  'SALESMAN',\n",
       "  7698,\n",
       "  datetime.date(1996, 3, 26),\n",
       "  Decimal('1250.00'),\n",
       "  Decimal('500.00'),\n",
       "  30)]"
      ]
     },
     "execution_count": 7,
     "metadata": {},
     "output_type": "execute_result"
    }
   ],
   "source": [
    "cursor.fetchall()"
   ]
  },
  {
   "cell_type": "markdown",
   "id": "53a5f9e0",
   "metadata": {},
   "source": [
    "Q-3. Write an SQL query to fetch the names of workers who earn the highest salary."
   ]
  },
  {
   "cell_type": "code",
   "execution_count": 8,
   "id": "3ca889f5",
   "metadata": {},
   "outputs": [],
   "source": [
    "cursor.execute(\"select ename,sal from emp where sal=(select max(sal) from emp);\") "
   ]
  },
  {
   "cell_type": "code",
   "execution_count": 9,
   "id": "bdb12d50",
   "metadata": {},
   "outputs": [
    {
     "data": {
      "text/plain": [
       "[('KING', Decimal('5000.00'))]"
      ]
     },
     "execution_count": 9,
     "metadata": {},
     "output_type": "execute_result"
    }
   ],
   "source": [
    "cursor.fetchall()"
   ]
  },
  {
   "cell_type": "code",
   "execution_count": null,
   "id": "d2cbff70",
   "metadata": {},
   "outputs": [],
   "source": []
  },
  {
   "cell_type": "code",
   "execution_count": 10,
   "id": "3188e706",
   "metadata": {},
   "outputs": [
    {
     "name": "stdout",
     "output_type": "stream",
     "text": [
      "MySQL connection is closed\n"
     ]
    }
   ],
   "source": [
    "cursor.close()\n",
    "connection.close()\n",
    "print(\"MySQL connection is closed\")"
   ]
  },
  {
   "cell_type": "code",
   "execution_count": null,
   "id": "ec9f0246",
   "metadata": {},
   "outputs": [],
   "source": []
  }
 ],
 "metadata": {
  "kernelspec": {
   "display_name": "Python 3 (ipykernel)",
   "language": "python",
   "name": "python3"
  },
  "language_info": {
   "codemirror_mode": {
    "name": "ipython",
    "version": 3
   },
   "file_extension": ".py",
   "mimetype": "text/x-python",
   "name": "python",
   "nbconvert_exporter": "python",
   "pygments_lexer": "ipython3",
   "version": "3.9.7"
  }
 },
 "nbformat": 4,
 "nbformat_minor": 5
}
